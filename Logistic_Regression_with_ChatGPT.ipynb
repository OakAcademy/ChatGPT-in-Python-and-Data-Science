{
 "cells": [
  {
   "cell_type": "markdown",
   "id": "c28a04ef",
   "metadata": {},
   "source": [
    "**Importing the Libraries**"
   ]
  },
  {
   "cell_type": "code",
   "execution_count": 1,
   "id": "53e70da5",
   "metadata": {},
   "outputs": [],
   "source": [
    "import pandas as pd\n",
    "import numpy as np\n",
    "import matplotlib.pyplot as plt\n",
    "import seaborn as sns"
   ]
  },
  {
   "cell_type": "markdown",
   "id": "24feeca8",
   "metadata": {},
   "source": [
    "**Loading the Dataset**"
   ]
  },
  {
   "cell_type": "code",
   "execution_count": 2,
   "id": "92d81936",
   "metadata": {},
   "outputs": [],
   "source": [
    "titanic_df = sns.load_dataset('titanic')"
   ]
  },
  {
   "cell_type": "code",
   "execution_count": 3,
   "id": "b096ebe1",
   "metadata": {},
   "outputs": [
    {
     "data": {
      "text/html": [
       "<div>\n",
       "<style scoped>\n",
       "    .dataframe tbody tr th:only-of-type {\n",
       "        vertical-align: middle;\n",
       "    }\n",
       "\n",
       "    .dataframe tbody tr th {\n",
       "        vertical-align: top;\n",
       "    }\n",
       "\n",
       "    .dataframe thead th {\n",
       "        text-align: right;\n",
       "    }\n",
       "</style>\n",
       "<table border=\"1\" class=\"dataframe\">\n",
       "  <thead>\n",
       "    <tr style=\"text-align: right;\">\n",
       "      <th></th>\n",
       "      <th>survived</th>\n",
       "      <th>pclass</th>\n",
       "      <th>sex</th>\n",
       "      <th>age</th>\n",
       "      <th>sibsp</th>\n",
       "      <th>parch</th>\n",
       "      <th>fare</th>\n",
       "      <th>embarked</th>\n",
       "      <th>class</th>\n",
       "      <th>who</th>\n",
       "      <th>adult_male</th>\n",
       "      <th>deck</th>\n",
       "      <th>embark_town</th>\n",
       "      <th>alive</th>\n",
       "      <th>alone</th>\n",
       "    </tr>\n",
       "  </thead>\n",
       "  <tbody>\n",
       "    <tr>\n",
       "      <th>0</th>\n",
       "      <td>0</td>\n",
       "      <td>3</td>\n",
       "      <td>male</td>\n",
       "      <td>22.0</td>\n",
       "      <td>1</td>\n",
       "      <td>0</td>\n",
       "      <td>7.2500</td>\n",
       "      <td>S</td>\n",
       "      <td>Third</td>\n",
       "      <td>man</td>\n",
       "      <td>True</td>\n",
       "      <td>NaN</td>\n",
       "      <td>Southampton</td>\n",
       "      <td>no</td>\n",
       "      <td>False</td>\n",
       "    </tr>\n",
       "    <tr>\n",
       "      <th>1</th>\n",
       "      <td>1</td>\n",
       "      <td>1</td>\n",
       "      <td>female</td>\n",
       "      <td>38.0</td>\n",
       "      <td>1</td>\n",
       "      <td>0</td>\n",
       "      <td>71.2833</td>\n",
       "      <td>C</td>\n",
       "      <td>First</td>\n",
       "      <td>woman</td>\n",
       "      <td>False</td>\n",
       "      <td>C</td>\n",
       "      <td>Cherbourg</td>\n",
       "      <td>yes</td>\n",
       "      <td>False</td>\n",
       "    </tr>\n",
       "    <tr>\n",
       "      <th>2</th>\n",
       "      <td>1</td>\n",
       "      <td>3</td>\n",
       "      <td>female</td>\n",
       "      <td>26.0</td>\n",
       "      <td>0</td>\n",
       "      <td>0</td>\n",
       "      <td>7.9250</td>\n",
       "      <td>S</td>\n",
       "      <td>Third</td>\n",
       "      <td>woman</td>\n",
       "      <td>False</td>\n",
       "      <td>NaN</td>\n",
       "      <td>Southampton</td>\n",
       "      <td>yes</td>\n",
       "      <td>True</td>\n",
       "    </tr>\n",
       "    <tr>\n",
       "      <th>3</th>\n",
       "      <td>1</td>\n",
       "      <td>1</td>\n",
       "      <td>female</td>\n",
       "      <td>35.0</td>\n",
       "      <td>1</td>\n",
       "      <td>0</td>\n",
       "      <td>53.1000</td>\n",
       "      <td>S</td>\n",
       "      <td>First</td>\n",
       "      <td>woman</td>\n",
       "      <td>False</td>\n",
       "      <td>C</td>\n",
       "      <td>Southampton</td>\n",
       "      <td>yes</td>\n",
       "      <td>False</td>\n",
       "    </tr>\n",
       "    <tr>\n",
       "      <th>4</th>\n",
       "      <td>0</td>\n",
       "      <td>3</td>\n",
       "      <td>male</td>\n",
       "      <td>35.0</td>\n",
       "      <td>0</td>\n",
       "      <td>0</td>\n",
       "      <td>8.0500</td>\n",
       "      <td>S</td>\n",
       "      <td>Third</td>\n",
       "      <td>man</td>\n",
       "      <td>True</td>\n",
       "      <td>NaN</td>\n",
       "      <td>Southampton</td>\n",
       "      <td>no</td>\n",
       "      <td>True</td>\n",
       "    </tr>\n",
       "  </tbody>\n",
       "</table>\n",
       "</div>"
      ],
      "text/plain": [
       "   survived  pclass     sex   age  sibsp  parch     fare embarked  class  \\\n",
       "0         0       3    male  22.0      1      0   7.2500        S  Third   \n",
       "1         1       1  female  38.0      1      0  71.2833        C  First   \n",
       "2         1       3  female  26.0      0      0   7.9250        S  Third   \n",
       "3         1       1  female  35.0      1      0  53.1000        S  First   \n",
       "4         0       3    male  35.0      0      0   8.0500        S  Third   \n",
       "\n",
       "     who  adult_male deck  embark_town alive  alone  \n",
       "0    man        True  NaN  Southampton    no  False  \n",
       "1  woman       False    C    Cherbourg   yes  False  \n",
       "2  woman       False  NaN  Southampton   yes   True  \n",
       "3  woman       False    C  Southampton   yes  False  \n",
       "4    man        True  NaN  Southampton    no   True  "
      ]
     },
     "execution_count": 3,
     "metadata": {},
     "output_type": "execute_result"
    }
   ],
   "source": [
    "titanic_df.head()"
   ]
  },
  {
   "cell_type": "markdown",
   "id": "a9e0504c",
   "metadata": {},
   "source": [
    "**Initial Analysis on the Dataset**"
   ]
  },
  {
   "cell_type": "code",
   "execution_count": 4,
   "id": "837bbfcd",
   "metadata": {},
   "outputs": [
    {
     "name": "stdout",
     "output_type": "stream",
     "text": [
      "<class 'pandas.core.frame.DataFrame'>\n",
      "RangeIndex: 891 entries, 0 to 890\n",
      "Data columns (total 15 columns):\n",
      " #   Column       Non-Null Count  Dtype   \n",
      "---  ------       --------------  -----   \n",
      " 0   survived     891 non-null    int64   \n",
      " 1   pclass       891 non-null    int64   \n",
      " 2   sex          891 non-null    object  \n",
      " 3   age          714 non-null    float64 \n",
      " 4   sibsp        891 non-null    int64   \n",
      " 5   parch        891 non-null    int64   \n",
      " 6   fare         891 non-null    float64 \n",
      " 7   embarked     889 non-null    object  \n",
      " 8   class        891 non-null    category\n",
      " 9   who          891 non-null    object  \n",
      " 10  adult_male   891 non-null    bool    \n",
      " 11  deck         203 non-null    category\n",
      " 12  embark_town  889 non-null    object  \n",
      " 13  alive        891 non-null    object  \n",
      " 14  alone        891 non-null    bool    \n",
      "dtypes: bool(2), category(2), float64(2), int64(4), object(5)\n",
      "memory usage: 80.7+ KB\n",
      "None\n"
     ]
    }
   ],
   "source": [
    "# Display the basic information\n",
    "print(titanic_df.info())"
   ]
  },
  {
   "cell_type": "markdown",
   "id": "e4d8a98c",
   "metadata": {},
   "source": [
    "* Survived: This variable indicates whether a passenger survived or not. It is encoded as 0 for not survived and 1 for survived.\n",
    "* Pclass: This variable represents the passenger class. It is a categorical variable with three levels: 1 (first class), 2 (second class), and 3 (third class).\n",
    "* Sex: This variable represents the gender of the passenger. It is a categorical variable with two levels: \"male\" and \"female\".\n",
    "* Age: This variable represents the age of the passenger. It is a continuous numerical variable.\n",
    "* SibSp: This variable represents the number of siblings or spouses aboard the Titanic for a given passenger. It is a discrete numerical variable.\n",
    "* Parch: This variable represents the number of parents or children aboard the Titanic for a given passenger. It is a discrete numerical variable.\n",
    "* Fare: This variable represents the fare (ticket price) paid by the passenger. It is a continuous numerical variable.\n",
    "* Embarked: This variable represents the port of embarkation for a given passenger. It is a categorical variable with three levels: \"C\" (Cherbourg), \"Q\" (Queenstown), and \"S\" (Southampton).\n",
    "* class: This variable is similar to the \"Pclass\" variable and represents the passenger class. It is a categorical variable with three levels: \"First\", \"Second\", and \"Third\".\n",
    "* who: This variable indicates whether the passenger is a man, woman, or child. It is a categorical variable with three levels: \"man\", \"woman\", and \"child\".\n",
    "* adult_male: This variable indicates whether the passenger is an adult male or not. It is a Boolean variable.\n",
    "* deck: This variable represents the deck where the passenger's cabin was located. It is a categorical variable.\n",
    "* embark_town: This variable is similar to the \"Embarked\" variable and represents the port of embarkation. It is a categorical variable.\n",
    "* alive: This variable indicates whether the passenger survived or not. It is a categorical variable with two levels: \"yes\" and \"no\".\n",
    "* alone: This variable indicates whether the passenger was traveling alone or with family members. It is a Boolean variable."
   ]
  },
  {
   "cell_type": "markdown",
   "id": "a6b4efca",
   "metadata": {},
   "source": [
    "**Suggestions**"
   ]
  },
  {
   "cell_type": "markdown",
   "id": "ad767d4b",
   "metadata": {},
   "source": [
    "To avoid redundancy and improve the efficiency of your machine learning algorithm, you can\n",
    "consider dropping some variables that provide similar or redundant information. Based on the\n",
    "variable descriptions provided earlier, here are a few suggestions for potential variables to drop:\n",
    "\n",
    "* class: This variable seems redundant as it provides information similar to the \"Pclass\" variable. You can consider dropping either \"class\" or \"Pclass\".\n",
    "* who: This variable provides information about the gender and age category of the passenger. Since you already have the \"Sex\" and \"Age\" variables, you could drop the \"who\" variable.\n",
    "* adult_male: This variable indicates whether the passenger is an adult male. Since you already have the \"Sex\" variable, which provides gender information, you may not need this variable.\n",
    "* embark_town: This variable represents the port of embarkation and is similar to the \"Embarked\" variable. You can drop either \"embark_town\" or \"Embarked\".\n",
    "* alive: This variable indicates whether the passenger survived or not, which is essentially the same information as the target variable \"Survived\". You can drop the \"alive\" variable."
   ]
  },
  {
   "cell_type": "code",
   "execution_count": 5,
   "id": "abbc918b",
   "metadata": {},
   "outputs": [],
   "source": [
    "titanic_df.drop(['class', 'who', 'adult_male', 'embarked', 'alive'], axis = 1, inplace = True)"
   ]
  },
  {
   "cell_type": "code",
   "execution_count": 6,
   "id": "544ece04",
   "metadata": {},
   "outputs": [
    {
     "data": {
      "text/html": [
       "<div>\n",
       "<style scoped>\n",
       "    .dataframe tbody tr th:only-of-type {\n",
       "        vertical-align: middle;\n",
       "    }\n",
       "\n",
       "    .dataframe tbody tr th {\n",
       "        vertical-align: top;\n",
       "    }\n",
       "\n",
       "    .dataframe thead th {\n",
       "        text-align: right;\n",
       "    }\n",
       "</style>\n",
       "<table border=\"1\" class=\"dataframe\">\n",
       "  <thead>\n",
       "    <tr style=\"text-align: right;\">\n",
       "      <th></th>\n",
       "      <th>survived</th>\n",
       "      <th>pclass</th>\n",
       "      <th>sex</th>\n",
       "      <th>age</th>\n",
       "      <th>sibsp</th>\n",
       "      <th>parch</th>\n",
       "      <th>fare</th>\n",
       "      <th>deck</th>\n",
       "      <th>embark_town</th>\n",
       "      <th>alone</th>\n",
       "    </tr>\n",
       "  </thead>\n",
       "  <tbody>\n",
       "    <tr>\n",
       "      <th>0</th>\n",
       "      <td>0</td>\n",
       "      <td>3</td>\n",
       "      <td>male</td>\n",
       "      <td>22.0</td>\n",
       "      <td>1</td>\n",
       "      <td>0</td>\n",
       "      <td>7.2500</td>\n",
       "      <td>NaN</td>\n",
       "      <td>Southampton</td>\n",
       "      <td>False</td>\n",
       "    </tr>\n",
       "    <tr>\n",
       "      <th>1</th>\n",
       "      <td>1</td>\n",
       "      <td>1</td>\n",
       "      <td>female</td>\n",
       "      <td>38.0</td>\n",
       "      <td>1</td>\n",
       "      <td>0</td>\n",
       "      <td>71.2833</td>\n",
       "      <td>C</td>\n",
       "      <td>Cherbourg</td>\n",
       "      <td>False</td>\n",
       "    </tr>\n",
       "    <tr>\n",
       "      <th>2</th>\n",
       "      <td>1</td>\n",
       "      <td>3</td>\n",
       "      <td>female</td>\n",
       "      <td>26.0</td>\n",
       "      <td>0</td>\n",
       "      <td>0</td>\n",
       "      <td>7.9250</td>\n",
       "      <td>NaN</td>\n",
       "      <td>Southampton</td>\n",
       "      <td>True</td>\n",
       "    </tr>\n",
       "    <tr>\n",
       "      <th>3</th>\n",
       "      <td>1</td>\n",
       "      <td>1</td>\n",
       "      <td>female</td>\n",
       "      <td>35.0</td>\n",
       "      <td>1</td>\n",
       "      <td>0</td>\n",
       "      <td>53.1000</td>\n",
       "      <td>C</td>\n",
       "      <td>Southampton</td>\n",
       "      <td>False</td>\n",
       "    </tr>\n",
       "    <tr>\n",
       "      <th>4</th>\n",
       "      <td>0</td>\n",
       "      <td>3</td>\n",
       "      <td>male</td>\n",
       "      <td>35.0</td>\n",
       "      <td>0</td>\n",
       "      <td>0</td>\n",
       "      <td>8.0500</td>\n",
       "      <td>NaN</td>\n",
       "      <td>Southampton</td>\n",
       "      <td>True</td>\n",
       "    </tr>\n",
       "  </tbody>\n",
       "</table>\n",
       "</div>"
      ],
      "text/plain": [
       "   survived  pclass     sex   age  sibsp  parch     fare deck  embark_town  \\\n",
       "0         0       3    male  22.0      1      0   7.2500  NaN  Southampton   \n",
       "1         1       1  female  38.0      1      0  71.2833    C    Cherbourg   \n",
       "2         1       3  female  26.0      0      0   7.9250  NaN  Southampton   \n",
       "3         1       1  female  35.0      1      0  53.1000    C  Southampton   \n",
       "4         0       3    male  35.0      0      0   8.0500  NaN  Southampton   \n",
       "\n",
       "   alone  \n",
       "0  False  \n",
       "1  False  \n",
       "2   True  \n",
       "3  False  \n",
       "4   True  "
      ]
     },
     "execution_count": 6,
     "metadata": {},
     "output_type": "execute_result"
    }
   ],
   "source": [
    "titanic_df.head()"
   ]
  },
  {
   "cell_type": "markdown",
   "id": "a96e70e0",
   "metadata": {},
   "source": [
    "**Exploratory Data Analysis(EDA)**"
   ]
  },
  {
   "cell_type": "code",
   "execution_count": 7,
   "id": "0e6ba2c3",
   "metadata": {},
   "outputs": [
    {
     "data": {
      "text/html": [
       "<div>\n",
       "<style scoped>\n",
       "    .dataframe tbody tr th:only-of-type {\n",
       "        vertical-align: middle;\n",
       "    }\n",
       "\n",
       "    .dataframe tbody tr th {\n",
       "        vertical-align: top;\n",
       "    }\n",
       "\n",
       "    .dataframe thead th {\n",
       "        text-align: right;\n",
       "    }\n",
       "</style>\n",
       "<table border=\"1\" class=\"dataframe\">\n",
       "  <thead>\n",
       "    <tr style=\"text-align: right;\">\n",
       "      <th></th>\n",
       "      <th>Null Count</th>\n",
       "      <th>Null Percentage</th>\n",
       "    </tr>\n",
       "  </thead>\n",
       "  <tbody>\n",
       "    <tr>\n",
       "      <th>deck</th>\n",
       "      <td>688</td>\n",
       "      <td>77.216611</td>\n",
       "    </tr>\n",
       "    <tr>\n",
       "      <th>age</th>\n",
       "      <td>177</td>\n",
       "      <td>19.865320</td>\n",
       "    </tr>\n",
       "    <tr>\n",
       "      <th>embark_town</th>\n",
       "      <td>2</td>\n",
       "      <td>0.224467</td>\n",
       "    </tr>\n",
       "    <tr>\n",
       "      <th>survived</th>\n",
       "      <td>0</td>\n",
       "      <td>0.000000</td>\n",
       "    </tr>\n",
       "    <tr>\n",
       "      <th>pclass</th>\n",
       "      <td>0</td>\n",
       "      <td>0.000000</td>\n",
       "    </tr>\n",
       "    <tr>\n",
       "      <th>sex</th>\n",
       "      <td>0</td>\n",
       "      <td>0.000000</td>\n",
       "    </tr>\n",
       "    <tr>\n",
       "      <th>sibsp</th>\n",
       "      <td>0</td>\n",
       "      <td>0.000000</td>\n",
       "    </tr>\n",
       "    <tr>\n",
       "      <th>parch</th>\n",
       "      <td>0</td>\n",
       "      <td>0.000000</td>\n",
       "    </tr>\n",
       "    <tr>\n",
       "      <th>fare</th>\n",
       "      <td>0</td>\n",
       "      <td>0.000000</td>\n",
       "    </tr>\n",
       "    <tr>\n",
       "      <th>alone</th>\n",
       "      <td>0</td>\n",
       "      <td>0.000000</td>\n",
       "    </tr>\n",
       "  </tbody>\n",
       "</table>\n",
       "</div>"
      ],
      "text/plain": [
       "             Null Count  Null Percentage\n",
       "deck                688        77.216611\n",
       "age                 177        19.865320\n",
       "embark_town           2         0.224467\n",
       "survived              0         0.000000\n",
       "pclass                0         0.000000\n",
       "sex                   0         0.000000\n",
       "sibsp                 0         0.000000\n",
       "parch                 0         0.000000\n",
       "fare                  0         0.000000\n",
       "alone                 0         0.000000"
      ]
     },
     "execution_count": 7,
     "metadata": {},
     "output_type": "execute_result"
    }
   ],
   "source": [
    "# Calculate the null values and percentages\n",
    "null_counts = titanic_df.isnull().sum()\n",
    "null_percentages = (null_counts / len(titanic_df)) * 100\n",
    "\n",
    "# Create a DataFrame to display the results\n",
    "null_df = pd.DataFrame({'Null Count': null_counts, 'Null Percentage': null_percentages})\n",
    "null_df.sort_values(by = 'Null Count', ascending=False, inplace=True)\n",
    "\n",
    "null_df"
   ]
  },
  {
   "cell_type": "code",
   "execution_count": 8,
   "id": "78f3dbf5",
   "metadata": {
    "scrolled": false
   },
   "outputs": [
    {
     "data": {
      "image/png": "[encoded data removed]",
      "text/plain": [
       "<Figure size 1000x600 with 1 Axes>"
      ]
     },
     "metadata": {},
     "output_type": "display_data"
    }
   ],
   "source": [
    "# Plotting the count of values in the 'deck' variable\n",
    "plt.figure(figsize=(10, 6))\n",
    "sns.countplot (data=titanic_df, x='deck')\n",
    "plt.title(\"Count of Values in 'deck' Variable\")\n",
    "plt.xlabel(\"Deck\")\n",
    "plt.ylabel(\"Count\")\n",
    "plt. show()"
   ]
  },
  {
   "cell_type": "markdown",
   "id": "f13c815c",
   "metadata": {},
   "source": [
    "By analyzing the plot, you can observe the following:\n",
    "* The 'deck' variable contains several categories represented by letters A, B, C, D, E, F, and G. These letters correspond to different decks on the Titanic.\n",
    "* The majority of passengers in the dataset do not have a specific deck assigned (missing values or NaNs). This is indicated by the tallest bar in the plot.\n",
    "* The most common deck among the passengers with a specified value is Deck C, followed by Deck B, Deck D, and Deck E."
   ]
  },
  {
   "cell_type": "code",
   "execution_count": 9,
   "id": "3260e880",
   "metadata": {},
   "outputs": [
    {
     "data": {
      "text/plain": [
       "<Figure size 1000x600 with 0 Axes>"
      ]
     },
     "metadata": {},
     "output_type": "display_data"
    },
    {
     "data": {
      "image/png": "[encoded data removed]",
      "text/plain": [
       "<Figure size 570.486x500 with 1 Axes>"
      ]
     },
     "metadata": {},
     "output_type": "display_data"
    }
   ],
   "source": [
    "# Plotting the 'deck' variable relative to 'survived'\n",
    "plt.figure (figsize=(10, 6))\n",
    "sns.catplot (data=titanic_df, x='deck', hue='survived', kind='count')\n",
    "plt.title(\"Survival Count by Deck\")\n",
    "plt.xlabel(\"Deck\")\n",
    "plt.ylabel(\"Count\")\n",
    "plt. show()"
   ]
  },
  {
   "cell_type": "markdown",
   "id": "25c7444e",
   "metadata": {},
   "source": [
    "The plot provides insights into the relationship between the 'deck' variable and the target variable 'survived\":\n",
    "* Decks A, B, and C have a higher proportion of passengers who survived compared to those who did not survive. This indicates a potential correlation between these decks and survival.\n",
    "* Decks D and E also show a higher proportion of survivors, but not as pronounced as the earlier decks.\n",
    "* Decks F and G have a higher proportion of passengers who did not survive, indicating a potential correlation between these decks and a lower chance of survival.\n",
    "* The majority of passengers without a specified deck value (NaN) have a lower chance of survival."
   ]
  },
  {
   "cell_type": "code",
   "execution_count": 10,
   "id": "8f12798b",
   "metadata": {},
   "outputs": [],
   "source": [
    "titanic_df.drop(\"deck\", axis=1, inplace=True)"
   ]
  },
  {
   "cell_type": "code",
   "execution_count": 11,
   "id": "5092af00",
   "metadata": {},
   "outputs": [
    {
     "data": {
      "text/html": [
       "<div>\n",
       "<style scoped>\n",
       "    .dataframe tbody tr th:only-of-type {\n",
       "        vertical-align: middle;\n",
       "    }\n",
       "\n",
       "    .dataframe tbody tr th {\n",
       "        vertical-align: top;\n",
       "    }\n",
       "\n",
       "    .dataframe thead th {\n",
       "        text-align: right;\n",
       "    }\n",
       "</style>\n",
       "<table border=\"1\" class=\"dataframe\">\n",
       "  <thead>\n",
       "    <tr style=\"text-align: right;\">\n",
       "      <th></th>\n",
       "      <th>survived</th>\n",
       "      <th>pclass</th>\n",
       "      <th>sex</th>\n",
       "      <th>age</th>\n",
       "      <th>sibsp</th>\n",
       "      <th>parch</th>\n",
       "      <th>fare</th>\n",
       "      <th>embark_town</th>\n",
       "      <th>alone</th>\n",
       "    </tr>\n",
       "  </thead>\n",
       "  <tbody>\n",
       "    <tr>\n",
       "      <th>0</th>\n",
       "      <td>0</td>\n",
       "      <td>3</td>\n",
       "      <td>male</td>\n",
       "      <td>22.0</td>\n",
       "      <td>1</td>\n",
       "      <td>0</td>\n",
       "      <td>7.2500</td>\n",
       "      <td>Southampton</td>\n",
       "      <td>False</td>\n",
       "    </tr>\n",
       "    <tr>\n",
       "      <th>1</th>\n",
       "      <td>1</td>\n",
       "      <td>1</td>\n",
       "      <td>female</td>\n",
       "      <td>38.0</td>\n",
       "      <td>1</td>\n",
       "      <td>0</td>\n",
       "      <td>71.2833</td>\n",
       "      <td>Cherbourg</td>\n",
       "      <td>False</td>\n",
       "    </tr>\n",
       "    <tr>\n",
       "      <th>2</th>\n",
       "      <td>1</td>\n",
       "      <td>3</td>\n",
       "      <td>female</td>\n",
       "      <td>26.0</td>\n",
       "      <td>0</td>\n",
       "      <td>0</td>\n",
       "      <td>7.9250</td>\n",
       "      <td>Southampton</td>\n",
       "      <td>True</td>\n",
       "    </tr>\n",
       "    <tr>\n",
       "      <th>3</th>\n",
       "      <td>1</td>\n",
       "      <td>1</td>\n",
       "      <td>female</td>\n",
       "      <td>35.0</td>\n",
       "      <td>1</td>\n",
       "      <td>0</td>\n",
       "      <td>53.1000</td>\n",
       "      <td>Southampton</td>\n",
       "      <td>False</td>\n",
       "    </tr>\n",
       "    <tr>\n",
       "      <th>4</th>\n",
       "      <td>0</td>\n",
       "      <td>3</td>\n",
       "      <td>male</td>\n",
       "      <td>35.0</td>\n",
       "      <td>0</td>\n",
       "      <td>0</td>\n",
       "      <td>8.0500</td>\n",
       "      <td>Southampton</td>\n",
       "      <td>True</td>\n",
       "    </tr>\n",
       "  </tbody>\n",
       "</table>\n",
       "</div>"
      ],
      "text/plain": [
       "   survived  pclass     sex   age  sibsp  parch     fare  embark_town  alone\n",
       "0         0       3    male  22.0      1      0   7.2500  Southampton  False\n",
       "1         1       1  female  38.0      1      0  71.2833    Cherbourg  False\n",
       "2         1       3  female  26.0      0      0   7.9250  Southampton   True\n",
       "3         1       1  female  35.0      1      0  53.1000  Southampton  False\n",
       "4         0       3    male  35.0      0      0   8.0500  Southampton   True"
      ]
     },
     "execution_count": 11,
     "metadata": {},
     "output_type": "execute_result"
    }
   ],
   "source": [
    "titanic_df.head()"
   ]
  },
  {
   "cell_type": "code",
   "execution_count": 12,
   "id": "a22b1aab",
   "metadata": {
    "scrolled": false
   },
   "outputs": [
    {
     "data": {
      "image/png": "[encoded data removed]",
      "text/plain": [
       "<Figure size 640x480 with 1 Axes>"
      ]
     },
     "metadata": {},
     "output_type": "display_data"
    }
   ],
   "source": [
    "sns.boxplot (x=\"pclass\", y=\"age\", data=titanic_df)\n",
    "plt.title(\"Distribution of Age by Passenger class\")\n",
    "plt.xlabel(\"Passenger Class\")\n",
    "plt.ylabel(\"Age\")\n",
    "plt.show()"
   ]
  },
  {
   "cell_type": "markdown",
   "id": "d0682432",
   "metadata": {},
   "source": [
    "By examining the box plot, you can gain several insights, such as:\n",
    "* Passengers in class 1 generally have a wider range of ages compared to the other classes. \n",
    "* The median age for passengers in class 1 is higher than for passengers in classes 2 and 3. \n",
    "* Passengers in class 2 tend to have a slightly narrower age range compared to class 1.\n",
    "* Class 3 passengers have the widest range of ages, with a median age lower than the other classes."
   ]
  },
  {
   "cell_type": "markdown",
   "id": "6b749a03",
   "metadata": {},
   "source": [
    "To determine the average age for each value of the \"pclass\" variable based on the box plot, we can look at the median age represented by the line inside each box. The median age is a good estimate of the central tendency of the age distribution within each passenger class. Here are the approximate average ages for each passenger class based on the box plot:\n",
    "* Class 1: The median age is around 35-40 years. \n",
    "* Class 2: The median age is around 25-30 years. \n",
    "* Class 3: The median age is around 20-25 years."
   ]
  },
  {
   "cell_type": "code",
   "execution_count": 13,
   "id": "38992e58",
   "metadata": {},
   "outputs": [],
   "source": [
    "# Define the values to fill for each passenger class\n",
    "fill_values = {1: 38, 2: 28, 3: 23}\n",
    "\n",
    "# Iterate over the rows and fill missing age values based on pclass\n",
    "for index, row in titanic_df.iterrows():\n",
    "    if pd.isnull(row['age']):\n",
    "        titanic_df.loc[index, 'age'] = fill_values[row['pclass']]"
   ]
  },
  {
   "cell_type": "markdown",
   "id": "f2db2d8a",
   "metadata": {},
   "source": [
    "This code defines a dictionary fill_values where the keys represent the passenger class values (1, 2, and 3) and the corresponding values represent the ages to fill for each class. Then, it iterates over the rows of the \"titanic_df\" dataframe and checks if the age value is missing (pd.isnull(row['age'])). If it is, it fills the age value based on the passenger class using the fillna() function."
   ]
  },
  {
   "cell_type": "code",
   "execution_count": 14,
   "id": "fb52323e",
   "metadata": {},
   "outputs": [
    {
     "data": {
      "text/html": [
       "<div>\n",
       "<style scoped>\n",
       "    .dataframe tbody tr th:only-of-type {\n",
       "        vertical-align: middle;\n",
       "    }\n",
       "\n",
       "    .dataframe tbody tr th {\n",
       "        vertical-align: top;\n",
       "    }\n",
       "\n",
       "    .dataframe thead th {\n",
       "        text-align: right;\n",
       "    }\n",
       "</style>\n",
       "<table border=\"1\" class=\"dataframe\">\n",
       "  <thead>\n",
       "    <tr style=\"text-align: right;\">\n",
       "      <th></th>\n",
       "      <th>Null Count</th>\n",
       "      <th>Null Percentage</th>\n",
       "    </tr>\n",
       "  </thead>\n",
       "  <tbody>\n",
       "    <tr>\n",
       "      <th>embark_town</th>\n",
       "      <td>2</td>\n",
       "      <td>0.224467</td>\n",
       "    </tr>\n",
       "    <tr>\n",
       "      <th>survived</th>\n",
       "      <td>0</td>\n",
       "      <td>0.000000</td>\n",
       "    </tr>\n",
       "    <tr>\n",
       "      <th>pclass</th>\n",
       "      <td>0</td>\n",
       "      <td>0.000000</td>\n",
       "    </tr>\n",
       "    <tr>\n",
       "      <th>sex</th>\n",
       "      <td>0</td>\n",
       "      <td>0.000000</td>\n",
       "    </tr>\n",
       "    <tr>\n",
       "      <th>age</th>\n",
       "      <td>0</td>\n",
       "      <td>0.000000</td>\n",
       "    </tr>\n",
       "    <tr>\n",
       "      <th>sibsp</th>\n",
       "      <td>0</td>\n",
       "      <td>0.000000</td>\n",
       "    </tr>\n",
       "    <tr>\n",
       "      <th>parch</th>\n",
       "      <td>0</td>\n",
       "      <td>0.000000</td>\n",
       "    </tr>\n",
       "    <tr>\n",
       "      <th>fare</th>\n",
       "      <td>0</td>\n",
       "      <td>0.000000</td>\n",
       "    </tr>\n",
       "    <tr>\n",
       "      <th>alone</th>\n",
       "      <td>0</td>\n",
       "      <td>0.000000</td>\n",
       "    </tr>\n",
       "  </tbody>\n",
       "</table>\n",
       "</div>"
      ],
      "text/plain": [
       "             Null Count  Null Percentage\n",
       "embark_town           2         0.224467\n",
       "survived              0         0.000000\n",
       "pclass                0         0.000000\n",
       "sex                   0         0.000000\n",
       "age                   0         0.000000\n",
       "sibsp                 0         0.000000\n",
       "parch                 0         0.000000\n",
       "fare                  0         0.000000\n",
       "alone                 0         0.000000"
      ]
     },
     "execution_count": 14,
     "metadata": {},
     "output_type": "execute_result"
    }
   ],
   "source": [
    "# Calculate the null values and percentages\n",
    "null_counts = titanic_df.isnull().sum()\n",
    "null_percentages = (null_counts / len(titanic_df)) * 100\n",
    "\n",
    "# Create a DataFrame to display the results\n",
    "null_df = pd.DataFrame({'Null Count': null_counts, 'Null Percentage': null_percentages})\n",
    "null_df.sort_values(by='Null Count', ascending=False, inplace=True)\n",
    "\n",
    "null_df"
   ]
  },
  {
   "cell_type": "code",
   "execution_count": 15,
   "id": "2aec82c4",
   "metadata": {},
   "outputs": [
    {
     "data": {
      "text/html": [
       "<div>\n",
       "<style scoped>\n",
       "    .dataframe tbody tr th:only-of-type {\n",
       "        vertical-align: middle;\n",
       "    }\n",
       "\n",
       "    .dataframe tbody tr th {\n",
       "        vertical-align: top;\n",
       "    }\n",
       "\n",
       "    .dataframe thead th {\n",
       "        text-align: right;\n",
       "    }\n",
       "</style>\n",
       "<table border=\"1\" class=\"dataframe\">\n",
       "  <thead>\n",
       "    <tr style=\"text-align: right;\">\n",
       "      <th></th>\n",
       "      <th>survived</th>\n",
       "      <th>pclass</th>\n",
       "      <th>sex</th>\n",
       "      <th>age</th>\n",
       "      <th>sibsp</th>\n",
       "      <th>parch</th>\n",
       "      <th>fare</th>\n",
       "      <th>embark_town</th>\n",
       "      <th>alone</th>\n",
       "    </tr>\n",
       "  </thead>\n",
       "  <tbody>\n",
       "    <tr>\n",
       "      <th>0</th>\n",
       "      <td>0</td>\n",
       "      <td>3</td>\n",
       "      <td>male</td>\n",
       "      <td>22.0</td>\n",
       "      <td>1</td>\n",
       "      <td>0</td>\n",
       "      <td>7.2500</td>\n",
       "      <td>Southampton</td>\n",
       "      <td>False</td>\n",
       "    </tr>\n",
       "    <tr>\n",
       "      <th>1</th>\n",
       "      <td>1</td>\n",
       "      <td>1</td>\n",
       "      <td>female</td>\n",
       "      <td>38.0</td>\n",
       "      <td>1</td>\n",
       "      <td>0</td>\n",
       "      <td>71.2833</td>\n",
       "      <td>Cherbourg</td>\n",
       "      <td>False</td>\n",
       "    </tr>\n",
       "    <tr>\n",
       "      <th>2</th>\n",
       "      <td>1</td>\n",
       "      <td>3</td>\n",
       "      <td>female</td>\n",
       "      <td>26.0</td>\n",
       "      <td>0</td>\n",
       "      <td>0</td>\n",
       "      <td>7.9250</td>\n",
       "      <td>Southampton</td>\n",
       "      <td>True</td>\n",
       "    </tr>\n",
       "    <tr>\n",
       "      <th>3</th>\n",
       "      <td>1</td>\n",
       "      <td>1</td>\n",
       "      <td>female</td>\n",
       "      <td>35.0</td>\n",
       "      <td>1</td>\n",
       "      <td>0</td>\n",
       "      <td>53.1000</td>\n",
       "      <td>Southampton</td>\n",
       "      <td>False</td>\n",
       "    </tr>\n",
       "    <tr>\n",
       "      <th>4</th>\n",
       "      <td>0</td>\n",
       "      <td>3</td>\n",
       "      <td>male</td>\n",
       "      <td>35.0</td>\n",
       "      <td>0</td>\n",
       "      <td>0</td>\n",
       "      <td>8.0500</td>\n",
       "      <td>Southampton</td>\n",
       "      <td>True</td>\n",
       "    </tr>\n",
       "  </tbody>\n",
       "</table>\n",
       "</div>"
      ],
      "text/plain": [
       "   survived  pclass     sex   age  sibsp  parch     fare  embark_town  alone\n",
       "0         0       3    male  22.0      1      0   7.2500  Southampton  False\n",
       "1         1       1  female  38.0      1      0  71.2833    Cherbourg  False\n",
       "2         1       3  female  26.0      0      0   7.9250  Southampton   True\n",
       "3         1       1  female  35.0      1      0  53.1000  Southampton  False\n",
       "4         0       3    male  35.0      0      0   8.0500  Southampton   True"
      ]
     },
     "execution_count": 15,
     "metadata": {},
     "output_type": "execute_result"
    }
   ],
   "source": [
    "# Drop the missing rows of the 'embark_town' variable\n",
    "titanic_df.dropna(subset=['embark_town'], inplace=True)\n",
    "\n",
    "# Verify the updated dataset\n",
    "titanic_df.head()"
   ]
  },
  {
   "cell_type": "code",
   "execution_count": 16,
   "id": "a17075b9",
   "metadata": {},
   "outputs": [
    {
     "data": {
      "text/html": [
       "<div>\n",
       "<style scoped>\n",
       "    .dataframe tbody tr th:only-of-type {\n",
       "        vertical-align: middle;\n",
       "    }\n",
       "\n",
       "    .dataframe tbody tr th {\n",
       "        vertical-align: top;\n",
       "    }\n",
       "\n",
       "    .dataframe thead th {\n",
       "        text-align: right;\n",
       "    }\n",
       "</style>\n",
       "<table border=\"1\" class=\"dataframe\">\n",
       "  <thead>\n",
       "    <tr style=\"text-align: right;\">\n",
       "      <th></th>\n",
       "      <th>Null Count</th>\n",
       "      <th>Null Percentage</th>\n",
       "    </tr>\n",
       "  </thead>\n",
       "  <tbody>\n",
       "    <tr>\n",
       "      <th>survived</th>\n",
       "      <td>0</td>\n",
       "      <td>0.0</td>\n",
       "    </tr>\n",
       "    <tr>\n",
       "      <th>pclass</th>\n",
       "      <td>0</td>\n",
       "      <td>0.0</td>\n",
       "    </tr>\n",
       "    <tr>\n",
       "      <th>sex</th>\n",
       "      <td>0</td>\n",
       "      <td>0.0</td>\n",
       "    </tr>\n",
       "    <tr>\n",
       "      <th>age</th>\n",
       "      <td>0</td>\n",
       "      <td>0.0</td>\n",
       "    </tr>\n",
       "    <tr>\n",
       "      <th>sibsp</th>\n",
       "      <td>0</td>\n",
       "      <td>0.0</td>\n",
       "    </tr>\n",
       "    <tr>\n",
       "      <th>parch</th>\n",
       "      <td>0</td>\n",
       "      <td>0.0</td>\n",
       "    </tr>\n",
       "    <tr>\n",
       "      <th>fare</th>\n",
       "      <td>0</td>\n",
       "      <td>0.0</td>\n",
       "    </tr>\n",
       "    <tr>\n",
       "      <th>embark_town</th>\n",
       "      <td>0</td>\n",
       "      <td>0.0</td>\n",
       "    </tr>\n",
       "    <tr>\n",
       "      <th>alone</th>\n",
       "      <td>0</td>\n",
       "      <td>0.0</td>\n",
       "    </tr>\n",
       "  </tbody>\n",
       "</table>\n",
       "</div>"
      ],
      "text/plain": [
       "             Null Count  Null Percentage\n",
       "survived              0              0.0\n",
       "pclass                0              0.0\n",
       "sex                   0              0.0\n",
       "age                   0              0.0\n",
       "sibsp                 0              0.0\n",
       "parch                 0              0.0\n",
       "fare                  0              0.0\n",
       "embark_town           0              0.0\n",
       "alone                 0              0.0"
      ]
     },
     "execution_count": 16,
     "metadata": {},
     "output_type": "execute_result"
    }
   ],
   "source": [
    "# Calculate the null values and percentages\n",
    "null_counts = titanic_df.isnull().sum()\n",
    "null_percentages = (null_counts / len(titanic_df)) * 100\n",
    "\n",
    "# Create a DataFrame to display the results\n",
    "null_df = pd.DataFrame({'Null Count': null_counts, 'Null Percentage': null_percentages})\n",
    "null_df.sort_values(by='Null Count', ascending=False, inplace=True)\n",
    "\n",
    "null_df"
   ]
  },
  {
   "cell_type": "code",
   "execution_count": 17,
   "id": "54046a43",
   "metadata": {
    "scrolled": false
   },
   "outputs": [
    {
     "data": {
      "image/png": "[encoded data removed]",
      "text/plain": [
       "<Figure size 500x500 with 1 Axes>"
      ]
     },
     "metadata": {},
     "output_type": "display_data"
    },
    {
     "data": {
      "image/png": "[encoded data removed]",
      "text/plain": [
       "<Figure size 500x500 with 1 Axes>"
      ]
     },
     "metadata": {},
     "output_type": "display_data"
    },
    {
     "data": {
      "image/png": "[encoded data removed]",
      "text/plain": [
       "<Figure size 500x500 with 1 Axes>"
      ]
     },
     "metadata": {},
     "output_type": "display_data"
    },
    {
     "data": {
      "image/png": "[encoded data removed]",
      "text/plain": [
       "<Figure size 500x500 with 1 Axes>"
      ]
     },
     "metadata": {},
     "output_type": "display_data"
    },
    {
     "data": {
      "image/png": "[encoded data removed]",
      "text/plain": [
       "<Figure size 500x500 with 1 Axes>"
      ]
     },
     "metadata": {},
     "output_type": "display_data"
    },
    {
     "data": {
      "image/png": "[encoded data removed]",
      "text/plain": [
       "<Figure size 500x500 with 1 Axes>"
      ]
     },
     "metadata": {},
     "output_type": "display_data"
    }
   ],
   "source": [
    "# Get the list of variables (columns) in the dataset, excluding 'age' and 'fare'\n",
    "variables = titanic_df.columns.tolist()\n",
    "variables.remove('age')\n",
    "variables.remove('fare')\n",
    "variables.remove('survived')\n",
    "\n",
    "# Loop through the variables and create visualizations\n",
    "for variable in variables:\n",
    "    sns.catplot(x=variable, y='survived', data=titanic_df, kind='bar')\n",
    "    plt.title(f\"Survival Rate by {variable}\")\n",
    "    plt.show()"
   ]
  },
  {
   "cell_type": "markdown",
   "id": "725a647c",
   "metadata": {},
   "source": [
    "In this code, we first obtain the list of variables in the dataset (excluding 'age' and 'fare'). Then, using a for loop, we iterate over each variable and create a bar plot using Seaborn's catplot() function. This plot shows the relationship between each variable and the 'survived' variable.\n",
    "\n",
    "The x parameter in catplot() specifies the variable to be plotted on the x-axis, and the y parameter represents the 'survived' variable. The kind parameter is set to 'bar' to create a bar plot.\n",
    "\n",
    "Inside the loop, we set the plot title dynamically based on the current variable being analyzed using an f-string (f\"Survival Rate by {variable}\"). Finally, we display the plot using plt.show()."
   ]
  },
  {
   "cell_type": "markdown",
   "id": "c6b8b102",
   "metadata": {},
   "source": [
    "Pclass (Passenger Class):\n",
    "\n",
    "* You can analyze the survival rates for each passenger class (1st, 2nd, 3rd).\n",
    "Look for differences in survival rates between classes. Typically, higher-class passengers (lower Pclass values) may have a higher survival rate.\n",
    "\n",
    "Sex:\n",
    "\n",
    "* You can compare the survival rates between males and females.\n",
    "* Look for differences in survival rates between genders. Historically, females were given priority during the Titanic disaster, so it's expected to see a higher survival rate for females.\n",
    "\n",
    "SibSp (Number of Siblings/Spouses Aboard):\n",
    "\n",
    "* You can observe the survival rates based on the number of siblings/spouses aboard the Titanic.\n",
    "* Look for patterns or trends in survival rates based on the number of siblings/spouses. It's possible that having a certain number of family members could influence the chances of survival.\n",
    "\n",
    "Parch (Number of Parents/Children Aboard):\n",
    "\n",
    "* You can examine the survival rates based on the number of parents/children aboard the Titanic.\n",
    "* Look for any correlations between the number of parents/children and survival rates. Having family members on board may impact the likelihood of survival.\n",
    "\n",
    "Embark_town (Port of Embarkation):\n",
    "\n",
    "* You can analyze the survival rates for passengers from different ports of embarkation (Cherbourg, Queenstown, Southampton).\n",
    "* Look for variations in survival rates based on the port of embarkation. Factors such as socio-economic status or cabin location might differ based on the port of embarkation."
   ]
  },
  {
   "cell_type": "code",
   "execution_count": 18,
   "id": "2d880387",
   "metadata": {},
   "outputs": [
    {
     "data": {
      "image/png": "[encoded data removed]",
      "text/plain": [
       "<Figure size 800x600 with 1 Axes>"
      ]
     },
     "metadata": {},
     "output_type": "display_data"
    },
    {
     "data": {
      "image/png": "[encoded data removed]",
      "text/plain": [
       "<Figure size 800x600 with 1 Axes>"
      ]
     },
     "metadata": {},
     "output_type": "display_data"
    }
   ],
   "source": [
    "# Create a loop to plot density graphs\n",
    "variables = ['age', 'fare']\n",
    "for var in variables:\n",
    "    plt.figure(figsize=(8, 6))\n",
    "    sns.kdeplot(data=titanic_df, x=var, hue='survived', fill=True, common_norm=False)\n",
    "    plt.title(f'Density Plot of {var.capitalize()} by Survival')\n",
    "    plt.xlabel(var.capitalize())\n",
    "    plt.ylabel('Density')\n",
    "    plt.legend(['Survived', 'Not Survived'])\n",
    "    plt.show()"
   ]
  },
  {
   "cell_type": "markdown",
   "id": "5979cf34",
   "metadata": {},
   "source": [
    "* Age: The density plot shows the distribution of age for both the survived and not survived groups. You can compare the peaks and spread of the curves to understand any differences. For example, if the density for a specific age range is higher in the survived group compared to the not survived group, it indicates a higher survival rate for passengers within that age range.\n",
    "\n",
    "* Fare: The density plot illustrates the distribution of fare (passenger fares) for the survived and not survived groups. Again, you can compare the shape, peaks, and spread of the curves to analyze any patterns. A higher density in a particular fare range for the survived group might suggest that passengers who paid higher fares had a better chance of survival."
   ]
  },
  {
   "cell_type": "code",
   "execution_count": 19,
   "id": "75eb5b55",
   "metadata": {},
   "outputs": [
    {
     "data": {
      "image/png": "[encoded data removed]",
      "text/plain": [
       "<Figure size 600x400 with 1 Axes>"
      ]
     },
     "metadata": {},
     "output_type": "display_data"
    }
   ],
   "source": [
    "# Create a countplot for the \"survived\" variable\n",
    "plt.figure(figsize=(6, 4))\n",
    "sns.countplot(data=titanic_df, x='survived')\n",
    "plt.title('Count of Survived')\n",
    "plt.xlabel('Survived')\n",
    "plt.ylabel('Count')\n",
    "plt.show()"
   ]
  },
  {
   "cell_type": "code",
   "execution_count": 20,
   "id": "770dfa9b",
   "metadata": {
    "scrolled": false
   },
   "outputs": [
    {
     "name": "stderr",
     "output_type": "stream",
     "text": [
      "/var/folders/2b/hnwsjxzn6mqbghj42rzct2t00000gq/T/ipykernel_72989/3782746105.py:2: FutureWarning: The default value of numeric_only in DataFrame.corr is deprecated. In a future version, it will default to False. Select only valid columns or specify the value of numeric_only to silence this warning.\n",
      "  correlation_matrix = titanic_df.corr()\n"
     ]
    },
    {
     "data": {
      "image/png": "[encoded data removed]",
      "text/plain": [
       "<Figure size 1000x800 with 2 Axes>"
      ]
     },
     "metadata": {},
     "output_type": "display_data"
    }
   ],
   "source": [
    "# Calculate the correlation matrix\n",
    "correlation_matrix = titanic_df.corr()\n",
    "\n",
    "# Create a heatmap of the correlation matrix\n",
    "plt.figure(figsize=(10, 8))\n",
    "sns.heatmap(correlation_matrix, annot=True, cmap='coolwarm', fmt=\".2f\", square=True)\n",
    "plt.title('Correlation Matrix of Titanic Dataset')\n",
    "plt.show()"
   ]
  },
  {
   "cell_type": "markdown",
   "id": "deb60c73",
   "metadata": {},
   "source": [
    "This code uses the seaborn.heatmap() function to create a heatmap of the correlation matrix. The correlation matrix calculates the pairwise correlations between all the variables in the dataset, and the heatmap visually represents the correlation values.\n",
    "\n",
    "After running the code, you will see a heatmap where each cell represents the correlation between two variables. The color of each cell indicates the strength and direction of the correlation, with warmer colors (e.g., red) representing positive correlations, cooler colors (e.g., blue) representing negative correlations, and shades of white indicating weaker or no correlation.\n",
    "\n",
    "By analyzing the correlation matrix heatmap, you can identify the relationships between different variables in the Titanic dataset. Strong positive or negative correlations suggest a significant relationship between two variables, while weak or no correlations suggest little or no relationship. This can help you understand which variables may have a significant impact on the target variable or identify potential multicollinearity issues."
   ]
  },
  {
   "cell_type": "markdown",
   "id": "ae857487",
   "metadata": {},
   "source": [
    "Survival Correlations:\n",
    "\n",
    "* \"Survived\" shows a moderate positive correlation with \"fare\". This suggests that passengers who paid higher fares had a slightly higher chance of survival.\n",
    "* \"Survived\" also shows a weak negative correlation with \"pclass\" (passenger class). This indicates that passengers in higher classes (lower class numbers) had a higher likelihood of survival.\n",
    "\n",
    "Fare Correlations:\n",
    "\n",
    "* \"Fare\" shows a strong positive correlation with \"pclass\". This indicates that higher-class passengers paid higher fares, which is expected.\n",
    "* There is a weak positive correlation between \"fare\" and \"age\". This suggests that older passengers tend to pay slightly higher fares.\n",
    "\n",
    "Age Correlations:\n",
    "\n",
    "* There is a weak negative correlation between \"age\" and \"pclass\". This indicates that older passengers tended to be in higher classes.\n",
    "* \"Age\" also shows a weak negative correlation with \"sibsp\" (number of siblings/spouses aboard). This suggests that younger passengers tend to have more siblings or spouses on board."
   ]
  },
  {
   "cell_type": "markdown",
   "id": "1ab48d6a",
   "metadata": {},
   "source": [
    "Now, let's analyze the heatmap and determine which variables may be unnecessary for the model, considering the target variable \"survived.\" In the heatmap, look for variables that have a very low correlation with \"survived\" (close to 0). These variables may not provide much information for predicting the survival outcome and can be considered for removal.\n",
    "\n",
    "For example, if we observe that \"parch\" (number of parents/children aboard), \"sibsp\" (number of siblings/spouses aboard), and age have low correlation values with \"survived,\" we can consider dropping them:"
   ]
  },
  {
   "cell_type": "code",
   "execution_count": 21,
   "id": "a7c5e374",
   "metadata": {},
   "outputs": [],
   "source": [
    "titanic_df = titanic_df.drop(columns=['parch', 'sibsp', 'age'])"
   ]
  },
  {
   "cell_type": "code",
   "execution_count": 22,
   "id": "151715a5",
   "metadata": {},
   "outputs": [
    {
     "data": {
      "text/html": [
       "<div>\n",
       "<style scoped>\n",
       "    .dataframe tbody tr th:only-of-type {\n",
       "        vertical-align: middle;\n",
       "    }\n",
       "\n",
       "    .dataframe tbody tr th {\n",
       "        vertical-align: top;\n",
       "    }\n",
       "\n",
       "    .dataframe thead th {\n",
       "        text-align: right;\n",
       "    }\n",
       "</style>\n",
       "<table border=\"1\" class=\"dataframe\">\n",
       "  <thead>\n",
       "    <tr style=\"text-align: right;\">\n",
       "      <th></th>\n",
       "      <th>survived</th>\n",
       "      <th>pclass</th>\n",
       "      <th>sex</th>\n",
       "      <th>fare</th>\n",
       "      <th>embark_town</th>\n",
       "      <th>alone</th>\n",
       "    </tr>\n",
       "  </thead>\n",
       "  <tbody>\n",
       "    <tr>\n",
       "      <th>0</th>\n",
       "      <td>0</td>\n",
       "      <td>3</td>\n",
       "      <td>male</td>\n",
       "      <td>7.2500</td>\n",
       "      <td>Southampton</td>\n",
       "      <td>False</td>\n",
       "    </tr>\n",
       "    <tr>\n",
       "      <th>1</th>\n",
       "      <td>1</td>\n",
       "      <td>1</td>\n",
       "      <td>female</td>\n",
       "      <td>71.2833</td>\n",
       "      <td>Cherbourg</td>\n",
       "      <td>False</td>\n",
       "    </tr>\n",
       "    <tr>\n",
       "      <th>2</th>\n",
       "      <td>1</td>\n",
       "      <td>3</td>\n",
       "      <td>female</td>\n",
       "      <td>7.9250</td>\n",
       "      <td>Southampton</td>\n",
       "      <td>True</td>\n",
       "    </tr>\n",
       "    <tr>\n",
       "      <th>3</th>\n",
       "      <td>1</td>\n",
       "      <td>1</td>\n",
       "      <td>female</td>\n",
       "      <td>53.1000</td>\n",
       "      <td>Southampton</td>\n",
       "      <td>False</td>\n",
       "    </tr>\n",
       "    <tr>\n",
       "      <th>4</th>\n",
       "      <td>0</td>\n",
       "      <td>3</td>\n",
       "      <td>male</td>\n",
       "      <td>8.0500</td>\n",
       "      <td>Southampton</td>\n",
       "      <td>True</td>\n",
       "    </tr>\n",
       "  </tbody>\n",
       "</table>\n",
       "</div>"
      ],
      "text/plain": [
       "   survived  pclass     sex     fare  embark_town  alone\n",
       "0         0       3    male   7.2500  Southampton  False\n",
       "1         1       1  female  71.2833    Cherbourg  False\n",
       "2         1       3  female   7.9250  Southampton   True\n",
       "3         1       1  female  53.1000  Southampton  False\n",
       "4         0       3    male   8.0500  Southampton   True"
      ]
     },
     "execution_count": 22,
     "metadata": {},
     "output_type": "execute_result"
    }
   ],
   "source": [
    "titanic_df.head()"
   ]
  },
  {
   "cell_type": "markdown",
   "id": "65e8e1e0",
   "metadata": {},
   "source": [
    "To convert categorical variables into a numeric form, you can use various techniques such as one-hot encoding or label encoding. Here, I'll demonstrate how to perform one-hot encoding for the variables 'sex', 'embark_town', and 'alone' in the Titanic dataset."
   ]
  },
  {
   "cell_type": "code",
   "execution_count": 23,
   "id": "31c3ecda",
   "metadata": {},
   "outputs": [],
   "source": [
    "# Perform one-hot encoding\n",
    "titanic_df = pd.get_dummies(titanic_df, columns=['sex', 'embark_town', 'alone'], drop_first=True)"
   ]
  },
  {
   "cell_type": "markdown",
   "id": "55f365ab",
   "metadata": {},
   "source": [
    "In the code above, we pass the columns we want to encode as a list to the columns parameter of get_dummies(). The drop_first=True argument ensures that we drop the first category of each encoded variable to avoid multicollinearity issues."
   ]
  },
  {
   "cell_type": "code",
   "execution_count": 24,
   "id": "308cae9b",
   "metadata": {},
   "outputs": [
    {
     "data": {
      "text/html": [
       "<div>\n",
       "<style scoped>\n",
       "    .dataframe tbody tr th:only-of-type {\n",
       "        vertical-align: middle;\n",
       "    }\n",
       "\n",
       "    .dataframe tbody tr th {\n",
       "        vertical-align: top;\n",
       "    }\n",
       "\n",
       "    .dataframe thead th {\n",
       "        text-align: right;\n",
       "    }\n",
       "</style>\n",
       "<table border=\"1\" class=\"dataframe\">\n",
       "  <thead>\n",
       "    <tr style=\"text-align: right;\">\n",
       "      <th></th>\n",
       "      <th>survived</th>\n",
       "      <th>pclass</th>\n",
       "      <th>fare</th>\n",
       "      <th>sex_male</th>\n",
       "      <th>embark_town_Queenstown</th>\n",
       "      <th>embark_town_Southampton</th>\n",
       "      <th>alone_True</th>\n",
       "    </tr>\n",
       "  </thead>\n",
       "  <tbody>\n",
       "    <tr>\n",
       "      <th>0</th>\n",
       "      <td>0</td>\n",
       "      <td>3</td>\n",
       "      <td>7.2500</td>\n",
       "      <td>1</td>\n",
       "      <td>0</td>\n",
       "      <td>1</td>\n",
       "      <td>0</td>\n",
       "    </tr>\n",
       "    <tr>\n",
       "      <th>1</th>\n",
       "      <td>1</td>\n",
       "      <td>1</td>\n",
       "      <td>71.2833</td>\n",
       "      <td>0</td>\n",
       "      <td>0</td>\n",
       "      <td>0</td>\n",
       "      <td>0</td>\n",
       "    </tr>\n",
       "    <tr>\n",
       "      <th>2</th>\n",
       "      <td>1</td>\n",
       "      <td>3</td>\n",
       "      <td>7.9250</td>\n",
       "      <td>0</td>\n",
       "      <td>0</td>\n",
       "      <td>1</td>\n",
       "      <td>1</td>\n",
       "    </tr>\n",
       "    <tr>\n",
       "      <th>3</th>\n",
       "      <td>1</td>\n",
       "      <td>1</td>\n",
       "      <td>53.1000</td>\n",
       "      <td>0</td>\n",
       "      <td>0</td>\n",
       "      <td>1</td>\n",
       "      <td>0</td>\n",
       "    </tr>\n",
       "    <tr>\n",
       "      <th>4</th>\n",
       "      <td>0</td>\n",
       "      <td>3</td>\n",
       "      <td>8.0500</td>\n",
       "      <td>1</td>\n",
       "      <td>0</td>\n",
       "      <td>1</td>\n",
       "      <td>1</td>\n",
       "    </tr>\n",
       "  </tbody>\n",
       "</table>\n",
       "</div>"
      ],
      "text/plain": [
       "   survived  pclass     fare  sex_male  embark_town_Queenstown  \\\n",
       "0         0       3   7.2500         1                       0   \n",
       "1         1       1  71.2833         0                       0   \n",
       "2         1       3   7.9250         0                       0   \n",
       "3         1       1  53.1000         0                       0   \n",
       "4         0       3   8.0500         1                       0   \n",
       "\n",
       "   embark_town_Southampton  alone_True  \n",
       "0                        1           0  \n",
       "1                        0           0  \n",
       "2                        1           1  \n",
       "3                        1           0  \n",
       "4                        1           1  "
      ]
     },
     "execution_count": 24,
     "metadata": {},
     "output_type": "execute_result"
    }
   ],
   "source": [
    "titanic_df.head()"
   ]
  },
  {
   "cell_type": "markdown",
   "id": "da1a7100",
   "metadata": {},
   "source": [
    "**Modelling**"
   ]
  },
  {
   "cell_type": "markdown",
   "id": "4de94641",
   "metadata": {},
   "source": [
    "Split the Dataset: Divide your dataset into training and testing subsets. The training set is used to train the logistic regression model, while the testing set is used to evaluate its performance."
   ]
  },
  {
   "cell_type": "code",
   "execution_count": 25,
   "id": "41b686cd",
   "metadata": {},
   "outputs": [],
   "source": [
    "from sklearn.model_selection import train_test_split"
   ]
  },
  {
   "cell_type": "code",
   "execution_count": 26,
   "id": "035e993b",
   "metadata": {},
   "outputs": [],
   "source": [
    "# Split the dataset into features (X) and target variable (y)\n",
    "X = titanic_df.drop('survived', axis=1)\n",
    "y = titanic_df['survived']"
   ]
  },
  {
   "cell_type": "code",
   "execution_count": 27,
   "id": "f3973562",
   "metadata": {},
   "outputs": [],
   "source": [
    "# Perform train-test split\n",
    "X_train, X_test, y_train, y_test = train_test_split(X, y, test_size=0.2, random_state=42)"
   ]
  },
  {
   "cell_type": "markdown",
   "id": "a619697c",
   "metadata": {},
   "source": [
    "Train the Model: Fit the logistic regression model on the training data. This step involves finding the optimal coefficients that maximize the likelihood of the observed outcomes."
   ]
  },
  {
   "cell_type": "code",
   "execution_count": 28,
   "id": "c84f2110",
   "metadata": {},
   "outputs": [],
   "source": [
    "from sklearn.linear_model import LogisticRegression"
   ]
  },
  {
   "cell_type": "code",
   "execution_count": 29,
   "id": "9c8d2e27",
   "metadata": {},
   "outputs": [
    {
     "data": {
      "text/html": [
       "<style>#sk-container-id-1 {color: black;}#sk-container-id-1 pre{padding: 0;}#sk-container-id-1 div.sk-toggleable {background-color: white;}#sk-container-id-1 label.sk-toggleable__label {cursor: pointer;display: block;width: 100%;margin-bottom: 0;padding: 0.3em;box-sizing: border-box;text-align: center;}#sk-container-id-1 label.sk-toggleable__label-arrow:before {content: \"▸\";float: left;margin-right: 0.25em;color: #696969;}#sk-container-id-1 label.sk-toggleable__label-arrow:hover:before {color: black;}#sk-container-id-1 div.sk-estimator:hover label.sk-toggleable__label-arrow:before {color: black;}#sk-container-id-1 div.sk-toggleable__content {max-height: 0;max-width: 0;overflow: hidden;text-align: left;background-color: #f0f8ff;}#sk-container-id-1 div.sk-toggleable__content pre {margin: 0.2em;color: black;border-radius: 0.25em;background-color: #f0f8ff;}#sk-container-id-1 input.sk-toggleable__control:checked~div.sk-toggleable__content {max-height: 200px;max-width: 100%;overflow: auto;}#sk-container-id-1 input.sk-toggleable__control:checked~label.sk-toggleable__label-arrow:before {content: \"▾\";}#sk-container-id-1 div.sk-estimator input.sk-toggleable__control:checked~label.sk-toggleable__label {background-color: #d4ebff;}#sk-container-id-1 div.sk-label input.sk-toggleable__control:checked~label.sk-toggleable__label {background-color: #d4ebff;}#sk-container-id-1 input.sk-hidden--visually {border: 0;clip: rect(1px 1px 1px 1px);clip: rect(1px, 1px, 1px, 1px);height: 1px;margin: -1px;overflow: hidden;padding: 0;position: absolute;width: 1px;}#sk-container-id-1 div.sk-estimator {font-family: monospace;background-color: #f0f8ff;border: 1px dotted black;border-radius: 0.25em;box-sizing: border-box;margin-bottom: 0.5em;}#sk-container-id-1 div.sk-estimator:hover {background-color: #d4ebff;}#sk-container-id-1 div.sk-parallel-item::after {content: \"\";width: 100%;border-bottom: 1px solid gray;flex-grow: 1;}#sk-container-id-1 div.sk-label:hover label.sk-toggleable__label {background-color: #d4ebff;}#sk-container-id-1 div.sk-serial::before {content: \"\";position: absolute;border-left: 1px solid gray;box-sizing: border-box;top: 0;bottom: 0;left: 50%;z-index: 0;}#sk-container-id-1 div.sk-serial {display: flex;flex-direction: column;align-items: center;background-color: white;padding-right: 0.2em;padding-left: 0.2em;position: relative;}#sk-container-id-1 div.sk-item {position: relative;z-index: 1;}#sk-container-id-1 div.sk-parallel {display: flex;align-items: stretch;justify-content: center;background-color: white;position: relative;}#sk-container-id-1 div.sk-item::before, #sk-container-id-1 div.sk-parallel-item::before {content: \"\";position: absolute;border-left: 1px solid gray;box-sizing: border-box;top: 0;bottom: 0;left: 50%;z-index: -1;}#sk-container-id-1 div.sk-parallel-item {display: flex;flex-direction: column;z-index: 1;position: relative;background-color: white;}#sk-container-id-1 div.sk-parallel-item:first-child::after {align-self: flex-end;width: 50%;}#sk-container-id-1 div.sk-parallel-item:last-child::after {align-self: flex-start;width: 50%;}#sk-container-id-1 div.sk-parallel-item:only-child::after {width: 0;}#sk-container-id-1 div.sk-dashed-wrapped {border: 1px dashed gray;margin: 0 0.4em 0.5em 0.4em;box-sizing: border-box;padding-bottom: 0.4em;background-color: white;}#sk-container-id-1 div.sk-label label {font-family: monospace;font-weight: bold;display: inline-block;line-height: 1.2em;}#sk-container-id-1 div.sk-label-container {text-align: center;}#sk-container-id-1 div.sk-container {/* jupyter's `normalize.less` sets `[hidden] { display: none; }` but bootstrap.min.css set `[hidden] { display: none !important; }` so we also need the `!important` here to be able to override the default hidden behavior on the sphinx rendered scikit-learn.org. See: https://github.com/scikit-learn/scikit-learn/issues/21755 */display: inline-block !important;position: relative;}#sk-container-id-1 div.sk-text-repr-fallback {display: none;}</style><div id=\"sk-container-id-1\" class=\"sk-top-container\"><div class=\"sk-text-repr-fallback\"><pre>LogisticRegression()</pre><b>In a Jupyter environment, please rerun this cell to show the HTML representation or trust the notebook. <br />On GitHub, the HTML representation is unable to render, please try loading this page with nbviewer.org.</b></div><div class=\"sk-container\" hidden><div class=\"sk-item\"><div class=\"sk-estimator sk-toggleable\"><input class=\"sk-toggleable__control sk-hidden--visually\" id=\"sk-estimator-id-1\" type=\"checkbox\" checked><label for=\"sk-estimator-id-1\" class=\"sk-toggleable__label sk-toggleable__label-arrow\">LogisticRegression</label><div class=\"sk-toggleable__content\"><pre>LogisticRegression()</pre></div></div></div></div></div>"
      ],
      "text/plain": [
       "LogisticRegression()"
      ]
     },
     "execution_count": 29,
     "metadata": {},
     "output_type": "execute_result"
    }
   ],
   "source": [
    "# Train the logistic regression model\n",
    "model = LogisticRegression()\n",
    "model.fit(X_train, y_train)"
   ]
  },
  {
   "cell_type": "markdown",
   "id": "74017ace",
   "metadata": {},
   "source": [
    "Evaluate the Model: Assess the performance of your trained model on the testing data. Common evaluation metrics for logistic regression include accuracy, precision, recall, F1-score, and area under the receiver operating characteristic curve (AUC-ROC)."
   ]
  },
  {
   "cell_type": "code",
   "execution_count": 30,
   "id": "4039bef2",
   "metadata": {},
   "outputs": [],
   "source": [
    "from sklearn.metrics import accuracy_score, precision_score, recall_score, f1_score, roc_auc_score"
   ]
  },
  {
   "cell_type": "code",
   "execution_count": 31,
   "id": "bdb6f0de",
   "metadata": {},
   "outputs": [],
   "source": [
    "# Make predictions on the test set\n",
    "y_pred = model.predict(X_test)"
   ]
  },
  {
   "cell_type": "markdown",
   "id": "b0710243",
   "metadata": {},
   "source": [
    "* Accuracy: Accuracy is the most basic evaluation metric and represents the proportion of correctly predicted instances (both true positives and true negatives) out of the total number of instances. It is calculated as:\n",
    "\n",
    "* Accuracy = (TP + TN) / (TP + TN + FP + FN)\n",
    "\n",
    "* However, accuracy alone may not be sufficient if the dataset is imbalanced, meaning that one class is much more prevalent than the other. In such cases, accuracy can be misleading, and it's important to consider additional metrics."
   ]
  },
  {
   "cell_type": "code",
   "execution_count": 32,
   "id": "6838de94",
   "metadata": {},
   "outputs": [
    {
     "name": "stdout",
     "output_type": "stream",
     "text": [
      "Accuracy: 0.7808988764044944\n"
     ]
    }
   ],
   "source": [
    "# Evaluate the model\n",
    "accuracy = accuracy_score(y_test, y_pred)\n",
    "print(\"Accuracy:\", accuracy)"
   ]
  },
  {
   "cell_type": "markdown",
   "id": "28e5839f",
   "metadata": {},
   "source": [
    "* Precision: Precision is the proportion of true positive predictions out of the total instances predicted as positive (both true positives and false positives). It measures the model's ability to accurately identify positive instances. Precision is calculated as:\n",
    "\n",
    "* Precision = TP / (TP + FP)\n",
    "\n",
    "* Precision is useful when the cost of false positives is high, such as in medical diagnoses where misclassifying a healthy person as having a disease can lead to unnecessary treatments or procedures."
   ]
  },
  {
   "cell_type": "code",
   "execution_count": 33,
   "id": "715203c9",
   "metadata": {},
   "outputs": [
    {
     "name": "stdout",
     "output_type": "stream",
     "text": [
      "Precision: 0.6829268292682927\n"
     ]
    }
   ],
   "source": [
    "precision = precision_score(y_test, y_pred)\n",
    "print(\"Precision:\", precision)"
   ]
  },
  {
   "cell_type": "markdown",
   "id": "785027bc",
   "metadata": {},
   "source": [
    "* Recall (Sensitivity or True Positive Rate): Recall represents the proportion of true positive predictions out of the total actual positive instances (both true positives and false negatives). It measures the model's ability to find all positive instances. Recall is calculated as:\n",
    "\n",
    "* Recall = TP / (TP + FN)\n",
    "\n",
    "* Recall is important when the cost of false negatives is high, such as in detecting fraudulent transactions or identifying diseases where missing positive instances can have severe consequences."
   ]
  },
  {
   "cell_type": "code",
   "execution_count": 34,
   "id": "724ed921",
   "metadata": {},
   "outputs": [
    {
     "name": "stdout",
     "output_type": "stream",
     "text": [
      "Recall: 0.8115942028985508\n"
     ]
    }
   ],
   "source": [
    "recall = recall_score(y_test, y_pred)\n",
    "print(\"Recall:\", recall)"
   ]
  },
  {
   "cell_type": "markdown",
   "id": "5ec4f1eb",
   "metadata": {},
   "source": [
    "* F1-score: The F1-score is the harmonic mean of precision and recall. It provides a single metric that balances both precision and recall. The F1-score is calculated as:\n",
    "\n",
    "* F1-score = 2 * (Precision * Recall) / (Precision + Recall)\n",
    "\n",
    "* The F1-score is useful when you want to consider both precision and recall and want to find a balance between them."
   ]
  },
  {
   "cell_type": "code",
   "execution_count": 35,
   "id": "cf0122a9",
   "metadata": {},
   "outputs": [
    {
     "name": "stdout",
     "output_type": "stream",
     "text": [
      "F1-score: 0.7417218543046358\n"
     ]
    }
   ],
   "source": [
    "f1 = f1_score(y_test, y_pred)\n",
    "print(\"F1-score:\", f1)"
   ]
  },
  {
   "cell_type": "markdown",
   "id": "38d5414b",
   "metadata": {},
   "source": [
    "* Area Under the ROC Curve (AUC-ROC): The ROC curve plots the true positive rate (sensitivity) against the false positive rate (1 - specificity) at various classification thresholds. The AUC-ROC represents the overall performance of the model across all possible thresholds. A higher AUC-ROC value indicates better model performance. The AUC-ROC ranges between 0 and 1, where 0.5 represents a random classifier and 1 represents a perfect classifier.\n",
    "\n",
    "* The AUC-ROC is useful when you want to evaluate the model's performance across various thresholds and have a clear distinction between positive and negative classes. It is commonly used in binary classification problems."
   ]
  },
  {
   "cell_type": "code",
   "execution_count": 36,
   "id": "d7caecb7",
   "metadata": {},
   "outputs": [
    {
     "name": "stdout",
     "output_type": "stream",
     "text": [
      "AUC-ROC: 0.7865310464034039\n"
     ]
    }
   ],
   "source": [
    "roc_auc = roc_auc_score(y_test, y_pred)\n",
    "print(\"AUC-ROC:\", roc_auc)"
   ]
  },
  {
   "cell_type": "markdown",
   "id": "742300f6",
   "metadata": {},
   "source": [
    "In summary, based on these metrics, the model appears to perform reasonably well, capturing a good proportion of positive instances while maintaining a relatively low rate of false positives. "
   ]
  },
  {
   "cell_type": "markdown",
   "id": "8828cdba",
   "metadata": {},
   "source": [
    "Fine-tune the hyperparameters of your logistic regression model to improve its performance. This step may involve techniques like cross-validation or grid search to find the optimal combination of hyperparameters."
   ]
  },
  {
   "cell_type": "markdown",
   "id": "bee78798",
   "metadata": {},
   "source": [
    "* Define the Hyperparameters: Identify the hyperparameters of the logistic regression model that you want to tune. Some common hyperparameters for logistic regression include the regularization parameter (C or alpha), the penalty type (l1 or l2), and the solver algorithm.\n",
    "\n",
    "* Set the Search Space: Define the range of hyperparameter values to search over. For each hyperparameter, specify a range or list of values to consider during the search. The choice of search space depends on the hyperparameter and your domain knowledge. For example, you might try a range of values for the regularization parameter C or a list of penalty types."
   ]
  },
  {
   "cell_type": "code",
   "execution_count": 37,
   "id": "9eefa809",
   "metadata": {},
   "outputs": [],
   "source": [
    "# Define the hyperparameters to tune\n",
    "param_grid = {'C': [0.1, 1, 10], 'penalty': ['l1', 'l2'], 'solver': ['liblinear', 'saga']}"
   ]
  },
  {
   "cell_type": "markdown",
   "id": "1bea4e4c",
   "metadata": {},
   "source": [
    "* Choose a Search Strategy: Determine the search strategy to explore different combinations of hyperparameters. Two common search strategies are grid search and random search. Grid search exhaustively evaluates all possible combinations of specified hyperparameter values, while random search randomly selects combinations from a defined search space."
   ]
  },
  {
   "cell_type": "code",
   "execution_count": 38,
   "id": "6c70cb0d",
   "metadata": {},
   "outputs": [],
   "source": [
    "from sklearn.model_selection import GridSearchCV"
   ]
  },
  {
   "cell_type": "markdown",
   "id": "8a4fd35d",
   "metadata": {},
   "source": [
    "* Select a Performance Metric: Choose a performance metric to evaluate and compare different combinations of hyperparameters. Common metrics include accuracy, precision, recall, F1-score, or AUC-ROC. The choice of metric depends on the specific problem and requirements.\n",
    "\n",
    "* Implement the Search: Use the chosen search strategy (grid search or random search) to explore different combinations of hyperparameters. Evaluate each combination of hyperparameters by training and cross-validating the logistic regression model using the chosen performance metric."
   ]
  },
  {
   "cell_type": "code",
   "execution_count": 39,
   "id": "df9a4cda",
   "metadata": {},
   "outputs": [],
   "source": [
    "# Create the logistic regression model\n",
    "model = LogisticRegression()"
   ]
  },
  {
   "cell_type": "code",
   "execution_count": 40,
   "id": "017f5dee",
   "metadata": {},
   "outputs": [],
   "source": [
    "# Create the GridSearchCV object\n",
    "grid_search = GridSearchCV(model, param_grid, scoring='accuracy', cv=5)"
   ]
  },
  {
   "cell_type": "code",
   "execution_count": 41,
   "id": "8ca9c393",
   "metadata": {
    "scrolled": true
   },
   "outputs": [
    {
     "name": "stderr",
     "output_type": "stream",
     "text": [
      "/Users/alica1/anaconda3/lib/python3.11/site-packages/sklearn/linear_model/_sag.py:350: ConvergenceWarning: The max_iter was reached which means the coef_ did not converge\n",
      "  warnings.warn(\n",
      "/Users/alica1/anaconda3/lib/python3.11/site-packages/sklearn/linear_model/_sag.py:350: ConvergenceWarning: The max_iter was reached which means the coef_ did not converge\n",
      "  warnings.warn(\n",
      "/Users/alica1/anaconda3/lib/python3.11/site-packages/sklearn/linear_model/_sag.py:350: ConvergenceWarning: The max_iter was reached which means the coef_ did not converge\n",
      "  warnings.warn(\n",
      "/Users/alica1/anaconda3/lib/python3.11/site-packages/sklearn/linear_model/_sag.py:350: ConvergenceWarning: The max_iter was reached which means the coef_ did not converge\n",
      "  warnings.warn(\n",
      "/Users/alica1/anaconda3/lib/python3.11/site-packages/sklearn/linear_model/_sag.py:350: ConvergenceWarning: The max_iter was reached which means the coef_ did not converge\n",
      "  warnings.warn(\n",
      "/Users/alica1/anaconda3/lib/python3.11/site-packages/sklearn/linear_model/_sag.py:350: ConvergenceWarning: The max_iter was reached which means the coef_ did not converge\n",
      "  warnings.warn(\n",
      "/Users/alica1/anaconda3/lib/python3.11/site-packages/sklearn/linear_model/_sag.py:350: ConvergenceWarning: The max_iter was reached which means the coef_ did not converge\n",
      "  warnings.warn(\n",
      "/Users/alica1/anaconda3/lib/python3.11/site-packages/sklearn/linear_model/_sag.py:350: ConvergenceWarning: The max_iter was reached which means the coef_ did not converge\n",
      "  warnings.warn(\n",
      "/Users/alica1/anaconda3/lib/python3.11/site-packages/sklearn/linear_model/_sag.py:350: ConvergenceWarning: The max_iter was reached which means the coef_ did not converge\n",
      "  warnings.warn(\n",
      "/Users/alica1/anaconda3/lib/python3.11/site-packages/sklearn/linear_model/_sag.py:350: ConvergenceWarning: The max_iter was reached which means the coef_ did not converge\n",
      "  warnings.warn(\n",
      "/Users/alica1/anaconda3/lib/python3.11/site-packages/sklearn/linear_model/_sag.py:350: ConvergenceWarning: The max_iter was reached which means the coef_ did not converge\n",
      "  warnings.warn(\n",
      "/Users/alica1/anaconda3/lib/python3.11/site-packages/sklearn/linear_model/_sag.py:350: ConvergenceWarning: The max_iter was reached which means the coef_ did not converge\n",
      "  warnings.warn(\n",
      "/Users/alica1/anaconda3/lib/python3.11/site-packages/sklearn/linear_model/_sag.py:350: ConvergenceWarning: The max_iter was reached which means the coef_ did not converge\n",
      "  warnings.warn(\n",
      "/Users/alica1/anaconda3/lib/python3.11/site-packages/sklearn/linear_model/_sag.py:350: ConvergenceWarning: The max_iter was reached which means the coef_ did not converge\n",
      "  warnings.warn(\n",
      "/Users/alica1/anaconda3/lib/python3.11/site-packages/sklearn/linear_model/_sag.py:350: ConvergenceWarning: The max_iter was reached which means the coef_ did not converge\n",
      "  warnings.warn(\n",
      "/Users/alica1/anaconda3/lib/python3.11/site-packages/sklearn/linear_model/_sag.py:350: ConvergenceWarning: The max_iter was reached which means the coef_ did not converge\n",
      "  warnings.warn(\n",
      "/Users/alica1/anaconda3/lib/python3.11/site-packages/sklearn/linear_model/_sag.py:350: ConvergenceWarning: The max_iter was reached which means the coef_ did not converge\n",
      "  warnings.warn(\n",
      "/Users/alica1/anaconda3/lib/python3.11/site-packages/sklearn/linear_model/_sag.py:350: ConvergenceWarning: The max_iter was reached which means the coef_ did not converge\n",
      "  warnings.warn(\n",
      "/Users/alica1/anaconda3/lib/python3.11/site-packages/sklearn/linear_model/_sag.py:350: ConvergenceWarning: The max_iter was reached which means the coef_ did not converge\n",
      "  warnings.warn(\n",
      "/Users/alica1/anaconda3/lib/python3.11/site-packages/sklearn/linear_model/_sag.py:350: ConvergenceWarning: The max_iter was reached which means the coef_ did not converge\n",
      "  warnings.warn(\n",
      "/Users/alica1/anaconda3/lib/python3.11/site-packages/sklearn/linear_model/_sag.py:350: ConvergenceWarning: The max_iter was reached which means the coef_ did not converge\n",
      "  warnings.warn(\n",
      "/Users/alica1/anaconda3/lib/python3.11/site-packages/sklearn/linear_model/_sag.py:350: ConvergenceWarning: The max_iter was reached which means the coef_ did not converge\n",
      "  warnings.warn(\n",
      "/Users/alica1/anaconda3/lib/python3.11/site-packages/sklearn/linear_model/_sag.py:350: ConvergenceWarning: The max_iter was reached which means the coef_ did not converge\n",
      "  warnings.warn(\n",
      "/Users/alica1/anaconda3/lib/python3.11/site-packages/sklearn/linear_model/_sag.py:350: ConvergenceWarning: The max_iter was reached which means the coef_ did not converge\n",
      "  warnings.warn(\n",
      "/Users/alica1/anaconda3/lib/python3.11/site-packages/sklearn/linear_model/_sag.py:350: ConvergenceWarning: The max_iter was reached which means the coef_ did not converge\n",
      "  warnings.warn(\n",
      "/Users/alica1/anaconda3/lib/python3.11/site-packages/sklearn/linear_model/_sag.py:350: ConvergenceWarning: The max_iter was reached which means the coef_ did not converge\n",
      "  warnings.warn(\n",
      "/Users/alica1/anaconda3/lib/python3.11/site-packages/sklearn/linear_model/_sag.py:350: ConvergenceWarning: The max_iter was reached which means the coef_ did not converge\n",
      "  warnings.warn(\n",
      "/Users/alica1/anaconda3/lib/python3.11/site-packages/sklearn/linear_model/_sag.py:350: ConvergenceWarning: The max_iter was reached which means the coef_ did not converge\n",
      "  warnings.warn(\n",
      "/Users/alica1/anaconda3/lib/python3.11/site-packages/sklearn/linear_model/_sag.py:350: ConvergenceWarning: The max_iter was reached which means the coef_ did not converge\n",
      "  warnings.warn(\n",
      "/Users/alica1/anaconda3/lib/python3.11/site-packages/sklearn/linear_model/_sag.py:350: ConvergenceWarning: The max_iter was reached which means the coef_ did not converge\n",
      "  warnings.warn(\n"
     ]
    },
    {
     "data": {
      "text/html": [
       "<style>#sk-container-id-2 {color: black;}#sk-container-id-2 pre{padding: 0;}#sk-container-id-2 div.sk-toggleable {background-color: white;}#sk-container-id-2 label.sk-toggleable__label {cursor: pointer;display: block;width: 100%;margin-bottom: 0;padding: 0.3em;box-sizing: border-box;text-align: center;}#sk-container-id-2 label.sk-toggleable__label-arrow:before {content: \"▸\";float: left;margin-right: 0.25em;color: #696969;}#sk-container-id-2 label.sk-toggleable__label-arrow:hover:before {color: black;}#sk-container-id-2 div.sk-estimator:hover label.sk-toggleable__label-arrow:before {color: black;}#sk-container-id-2 div.sk-toggleable__content {max-height: 0;max-width: 0;overflow: hidden;text-align: left;background-color: #f0f8ff;}#sk-container-id-2 div.sk-toggleable__content pre {margin: 0.2em;color: black;border-radius: 0.25em;background-color: #f0f8ff;}#sk-container-id-2 input.sk-toggleable__control:checked~div.sk-toggleable__content {max-height: 200px;max-width: 100%;overflow: auto;}#sk-container-id-2 input.sk-toggleable__control:checked~label.sk-toggleable__label-arrow:before {content: \"▾\";}#sk-container-id-2 div.sk-estimator input.sk-toggleable__control:checked~label.sk-toggleable__label {background-color: #d4ebff;}#sk-container-id-2 div.sk-label input.sk-toggleable__control:checked~label.sk-toggleable__label {background-color: #d4ebff;}#sk-container-id-2 input.sk-hidden--visually {border: 0;clip: rect(1px 1px 1px 1px);clip: rect(1px, 1px, 1px, 1px);height: 1px;margin: -1px;overflow: hidden;padding: 0;position: absolute;width: 1px;}#sk-container-id-2 div.sk-estimator {font-family: monospace;background-color: #f0f8ff;border: 1px dotted black;border-radius: 0.25em;box-sizing: border-box;margin-bottom: 0.5em;}#sk-container-id-2 div.sk-estimator:hover {background-color: #d4ebff;}#sk-container-id-2 div.sk-parallel-item::after {content: \"\";width: 100%;border-bottom: 1px solid gray;flex-grow: 1;}#sk-container-id-2 div.sk-label:hover label.sk-toggleable__label {background-color: #d4ebff;}#sk-container-id-2 div.sk-serial::before {content: \"\";position: absolute;border-left: 1px solid gray;box-sizing: border-box;top: 0;bottom: 0;left: 50%;z-index: 0;}#sk-container-id-2 div.sk-serial {display: flex;flex-direction: column;align-items: center;background-color: white;padding-right: 0.2em;padding-left: 0.2em;position: relative;}#sk-container-id-2 div.sk-item {position: relative;z-index: 1;}#sk-container-id-2 div.sk-parallel {display: flex;align-items: stretch;justify-content: center;background-color: white;position: relative;}#sk-container-id-2 div.sk-item::before, #sk-container-id-2 div.sk-parallel-item::before {content: \"\";position: absolute;border-left: 1px solid gray;box-sizing: border-box;top: 0;bottom: 0;left: 50%;z-index: -1;}#sk-container-id-2 div.sk-parallel-item {display: flex;flex-direction: column;z-index: 1;position: relative;background-color: white;}#sk-container-id-2 div.sk-parallel-item:first-child::after {align-self: flex-end;width: 50%;}#sk-container-id-2 div.sk-parallel-item:last-child::after {align-self: flex-start;width: 50%;}#sk-container-id-2 div.sk-parallel-item:only-child::after {width: 0;}#sk-container-id-2 div.sk-dashed-wrapped {border: 1px dashed gray;margin: 0 0.4em 0.5em 0.4em;box-sizing: border-box;padding-bottom: 0.4em;background-color: white;}#sk-container-id-2 div.sk-label label {font-family: monospace;font-weight: bold;display: inline-block;line-height: 1.2em;}#sk-container-id-2 div.sk-label-container {text-align: center;}#sk-container-id-2 div.sk-container {/* jupyter's `normalize.less` sets `[hidden] { display: none; }` but bootstrap.min.css set `[hidden] { display: none !important; }` so we also need the `!important` here to be able to override the default hidden behavior on the sphinx rendered scikit-learn.org. See: https://github.com/scikit-learn/scikit-learn/issues/21755 */display: inline-block !important;position: relative;}#sk-container-id-2 div.sk-text-repr-fallback {display: none;}</style><div id=\"sk-container-id-2\" class=\"sk-top-container\"><div class=\"sk-text-repr-fallback\"><pre>GridSearchCV(cv=5, estimator=LogisticRegression(),\n",
       "             param_grid={&#x27;C&#x27;: [0.1, 1, 10], &#x27;penalty&#x27;: [&#x27;l1&#x27;, &#x27;l2&#x27;],\n",
       "                         &#x27;solver&#x27;: [&#x27;liblinear&#x27;, &#x27;saga&#x27;]},\n",
       "             scoring=&#x27;accuracy&#x27;)</pre><b>In a Jupyter environment, please rerun this cell to show the HTML representation or trust the notebook. <br />On GitHub, the HTML representation is unable to render, please try loading this page with nbviewer.org.</b></div><div class=\"sk-container\" hidden><div class=\"sk-item sk-dashed-wrapped\"><div class=\"sk-label-container\"><div class=\"sk-label sk-toggleable\"><input class=\"sk-toggleable__control sk-hidden--visually\" id=\"sk-estimator-id-2\" type=\"checkbox\" ><label for=\"sk-estimator-id-2\" class=\"sk-toggleable__label sk-toggleable__label-arrow\">GridSearchCV</label><div class=\"sk-toggleable__content\"><pre>GridSearchCV(cv=5, estimator=LogisticRegression(),\n",
       "             param_grid={&#x27;C&#x27;: [0.1, 1, 10], &#x27;penalty&#x27;: [&#x27;l1&#x27;, &#x27;l2&#x27;],\n",
       "                         &#x27;solver&#x27;: [&#x27;liblinear&#x27;, &#x27;saga&#x27;]},\n",
       "             scoring=&#x27;accuracy&#x27;)</pre></div></div></div><div class=\"sk-parallel\"><div class=\"sk-parallel-item\"><div class=\"sk-item\"><div class=\"sk-label-container\"><div class=\"sk-label sk-toggleable\"><input class=\"sk-toggleable__control sk-hidden--visually\" id=\"sk-estimator-id-3\" type=\"checkbox\" ><label for=\"sk-estimator-id-3\" class=\"sk-toggleable__label sk-toggleable__label-arrow\">estimator: LogisticRegression</label><div class=\"sk-toggleable__content\"><pre>LogisticRegression()</pre></div></div></div><div class=\"sk-serial\"><div class=\"sk-item\"><div class=\"sk-estimator sk-toggleable\"><input class=\"sk-toggleable__control sk-hidden--visually\" id=\"sk-estimator-id-4\" type=\"checkbox\" ><label for=\"sk-estimator-id-4\" class=\"sk-toggleable__label sk-toggleable__label-arrow\">LogisticRegression</label><div class=\"sk-toggleable__content\"><pre>LogisticRegression()</pre></div></div></div></div></div></div></div></div></div></div>"
      ],
      "text/plain": [
       "GridSearchCV(cv=5, estimator=LogisticRegression(),\n",
       "             param_grid={'C': [0.1, 1, 10], 'penalty': ['l1', 'l2'],\n",
       "                         'solver': ['liblinear', 'saga']},\n",
       "             scoring='accuracy')"
      ]
     },
     "execution_count": 41,
     "metadata": {},
     "output_type": "execute_result"
    }
   ],
   "source": [
    "# Fit the GridSearchCV object to the training data\n",
    "grid_search.fit(X_train, y_train)"
   ]
  },
  {
   "cell_type": "markdown",
   "id": "4156b0b6",
   "metadata": {},
   "source": [
    "* Evaluate Results: Compare the performance of different hyperparameter combinations based on the selected performance metric. Identify the combination that yields the best performance on the validation or cross-validation set."
   ]
  },
  {
   "cell_type": "code",
   "execution_count": 42,
   "id": "1cfba58b",
   "metadata": {},
   "outputs": [
    {
     "name": "stdout",
     "output_type": "stream",
     "text": [
      "{'C': 0.1, 'penalty': 'l1', 'solver': 'liblinear'}\n"
     ]
    }
   ],
   "source": [
    "# Get the best hyperparameters and model\n",
    "best_params = grid_search.best_params_\n",
    "print(best_params)"
   ]
  },
  {
   "cell_type": "markdown",
   "id": "688948f0",
   "metadata": {},
   "source": [
    "* Validate on Test Set: After selecting the best hyperparameters based on the validation set, evaluate the final model's performance on a separate test set. This step provides an unbiased estimate of how well your tuned model will perform on new, unseen data."
   ]
  },
  {
   "cell_type": "code",
   "execution_count": 43,
   "id": "49dfcafb",
   "metadata": {},
   "outputs": [],
   "source": [
    "best_model = grid_search.best_estimator_"
   ]
  },
  {
   "cell_type": "code",
   "execution_count": 44,
   "id": "a922f729",
   "metadata": {},
   "outputs": [],
   "source": [
    "# Evaluate the best model on the test set\n",
    "y_pred = best_model.predict(X_test)"
   ]
  },
  {
   "cell_type": "markdown",
   "id": "cc942a2c",
   "metadata": {},
   "source": [
    "* Refine and Repeat: If the performance of the tuned model is not satisfactory, you can further refine your search by adjusting the search space, trying different hyperparameters, or considering more advanced techniques like Bayesian optimization or gradient-based optimization methods."
   ]
  },
  {
   "cell_type": "code",
   "execution_count": 45,
   "id": "9cb8c3ea",
   "metadata": {},
   "outputs": [],
   "source": [
    "# Calculate the evaluation metrics\n",
    "accuracy = accuracy_score(y_test, y_pred)\n",
    "precision = precision_score(y_test, y_pred)\n",
    "recall = recall_score(y_test, y_pred)\n",
    "f1 = f1_score(y_test, y_pred)\n",
    "roc_auc = roc_auc_score(y_test, y_pred)"
   ]
  },
  {
   "cell_type": "code",
   "execution_count": 46,
   "id": "6bb0e02a",
   "metadata": {
    "scrolled": true
   },
   "outputs": [
    {
     "name": "stdout",
     "output_type": "stream",
     "text": [
      "Accuracy: 0.8033707865168539\n",
      "Precision: 0.7297297297297297\n",
      "Recall: 0.782608695652174\n",
      "F1-score: 0.7552447552447553\n",
      "AUC-ROC: 0.799561228560032\n"
     ]
    }
   ],
   "source": [
    "# Print the evaluation metrics\n",
    "print(\"Accuracy:\", accuracy)\n",
    "print(\"Precision:\", precision)\n",
    "print(\"Recall:\", recall)\n",
    "print(\"F1-score:\", f1)\n",
    "print(\"AUC-ROC:\", roc_auc)"
   ]
  },
  {
   "cell_type": "markdown",
   "id": "53e1032e",
   "metadata": {},
   "source": [
    "# Good Luck!"
   ]
  }
 ],
 "metadata": {
  "kernelspec": {
   "display_name": "Python 3 (ipykernel)",
   "language": "python",
   "name": "python3"
  },
  "language_info": {
   "codemirror_mode": {
    "name": "ipython",
    "version": 3
   },
   "file_extension": ".py",
   "mimetype": "text/x-python",
   "name": "python",
   "nbconvert_exporter": "python",
   "pygments_lexer": "ipython3",
   "version": "3.11.4"
  }
 },
 "nbformat": 4,
 "nbformat_minor": 5
}
